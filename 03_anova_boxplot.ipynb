{
 "cells": [
  {
   "cell_type": "markdown",
   "id": "88cbbda1-4880-49ca-af27-2bce09178f01",
   "metadata": {},
   "source": [
    "# Generate an ANOVA boxplot for gene expression levels"
   ]
  },
  {
   "cell_type": "code",
   "execution_count": 1,
   "id": "1d1dcb9b-c29b-4ed6-9b20-41b3edcdf232",
   "metadata": {},
   "outputs": [],
   "source": [
    "import pandas as pd\n",
    "import numpy as np\n",
    "import pickle\n",
    "import pingouin as pg\n",
    "import matplotlib.pyplot as plt"
   ]
  },
  {
   "cell_type": "markdown",
   "id": "7c5947a2-e456-44c6-9c43-57f692dc4300",
   "metadata": {},
   "source": [
    "## Define the gene, dataset and groups of interest to plot"
   ]
  },
  {
   "cell_type": "code",
   "execution_count": 2,
   "id": "ee0fe38e-5675-43d9-ac55-88a206f857ae",
   "metadata": {},
   "outputs": [],
   "source": [
    "gene_name = 'SMYD2'\n",
    "dataset_name = 'TCGA-BRCA'\n",
    "group_names = ['NT', 'Luminal-A', 'Luminal-B', 'HER2-enriched', 'Basal-like']"
   ]
  },
  {
   "cell_type": "markdown",
   "id": "1eac30fe-d66c-415f-976c-c1530a28c51b",
   "metadata": {},
   "source": [
    "## Import a project"
   ]
  },
  {
   "cell_type": "code",
   "execution_count": 3,
   "id": "3486769b-a89a-4d1f-9821-04f3075dd3af",
   "metadata": {},
   "outputs": [],
   "source": [
    "pickle_file = 'data/LysOnc.pickle'\n",
    "with open(pickle_file, 'rb') as f:\n",
    "    project = pickle.load(f)"
   ]
  },
  {
   "cell_type": "markdown",
   "id": "684b0dd9-0c89-467d-abc9-498cbc50489d",
   "metadata": {},
   "source": [
    "## Load data"
   ]
  },
  {
   "cell_type": "code",
   "execution_count": 4,
   "id": "bfcfe28a-8775-4db9-82c4-f13b03e6dbdc",
   "metadata": {
    "tags": []
   },
   "outputs": [
    {
     "data": {
      "text/html": [
       "<div>\n",
       "<style scoped>\n",
       "    .dataframe tbody tr th:only-of-type {\n",
       "        vertical-align: middle;\n",
       "    }\n",
       "\n",
       "    .dataframe tbody tr th {\n",
       "        vertical-align: top;\n",
       "    }\n",
       "\n",
       "    .dataframe thead th {\n",
       "        text-align: right;\n",
       "    }\n",
       "</style>\n",
       "<table border=\"1\" class=\"dataframe\">\n",
       "  <thead>\n",
       "    <tr style=\"text-align: right;\">\n",
       "      <th></th>\n",
       "      <th>TCGA-3C-AAAU-01A</th>\n",
       "      <th>TCGA-3C-AALI-01A</th>\n",
       "      <th>TCGA-3C-AALJ-01A</th>\n",
       "      <th>TCGA-3C-AALK-01A</th>\n",
       "      <th>TCGA-4H-AAAK-01A</th>\n",
       "      <th>TCGA-5L-AAT0-01A</th>\n",
       "      <th>TCGA-5L-AAT1-01A</th>\n",
       "      <th>TCGA-5T-A9QA-01A</th>\n",
       "      <th>TCGA-A1-A0SB-01A</th>\n",
       "      <th>TCGA-A1-A0SD-01A</th>\n",
       "      <th>...</th>\n",
       "      <th>TCGA-UL-AAZ6-01A</th>\n",
       "      <th>TCGA-UU-A93S-01A</th>\n",
       "      <th>TCGA-V7-A7HQ-01A</th>\n",
       "      <th>TCGA-W8-A86G-01A</th>\n",
       "      <th>TCGA-WT-AB41-01A</th>\n",
       "      <th>TCGA-WT-AB44-01A</th>\n",
       "      <th>TCGA-XX-A899-01A</th>\n",
       "      <th>TCGA-XX-A89A-01A</th>\n",
       "      <th>TCGA-Z7-A8R5-01A</th>\n",
       "      <th>TCGA-Z7-A8R6-01A</th>\n",
       "    </tr>\n",
       "    <tr>\n",
       "      <th>gene_symbol</th>\n",
       "      <th></th>\n",
       "      <th></th>\n",
       "      <th></th>\n",
       "      <th></th>\n",
       "      <th></th>\n",
       "      <th></th>\n",
       "      <th></th>\n",
       "      <th></th>\n",
       "      <th></th>\n",
       "      <th></th>\n",
       "      <th></th>\n",
       "      <th></th>\n",
       "      <th></th>\n",
       "      <th></th>\n",
       "      <th></th>\n",
       "      <th></th>\n",
       "      <th></th>\n",
       "      <th></th>\n",
       "      <th></th>\n",
       "      <th></th>\n",
       "      <th></th>\n",
       "    </tr>\n",
       "  </thead>\n",
       "  <tbody>\n",
       "    <tr>\n",
       "      <th>ACAD9</th>\n",
       "      <td>3.443010</td>\n",
       "      <td>3.378234</td>\n",
       "      <td>3.410165</td>\n",
       "      <td>3.517439</td>\n",
       "      <td>3.494249</td>\n",
       "      <td>3.553496</td>\n",
       "      <td>3.576522</td>\n",
       "      <td>3.621126</td>\n",
       "      <td>3.304146</td>\n",
       "      <td>3.464956</td>\n",
       "      <td>...</td>\n",
       "      <td>3.514324</td>\n",
       "      <td>3.744753</td>\n",
       "      <td>3.583952</td>\n",
       "      <td>3.533464</td>\n",
       "      <td>2.657228</td>\n",
       "      <td>3.340163</td>\n",
       "      <td>3.357468</td>\n",
       "      <td>3.501044</td>\n",
       "      <td>3.553901</td>\n",
       "      <td>3.733680</td>\n",
       "    </tr>\n",
       "    <tr>\n",
       "      <th>ACTBL2</th>\n",
       "      <td>0.064055</td>\n",
       "      <td>0.014212</td>\n",
       "      <td>0.000000</td>\n",
       "      <td>0.020058</td>\n",
       "      <td>0.054501</td>\n",
       "      <td>0.000000</td>\n",
       "      <td>0.043204</td>\n",
       "      <td>0.000000</td>\n",
       "      <td>0.289952</td>\n",
       "      <td>0.026021</td>\n",
       "      <td>...</td>\n",
       "      <td>0.009060</td>\n",
       "      <td>0.000000</td>\n",
       "      <td>0.000000</td>\n",
       "      <td>0.110096</td>\n",
       "      <td>0.000000</td>\n",
       "      <td>0.000000</td>\n",
       "      <td>1.566328</td>\n",
       "      <td>0.022616</td>\n",
       "      <td>0.085425</td>\n",
       "      <td>0.019346</td>\n",
       "    </tr>\n",
       "    <tr>\n",
       "      <th>ACTC1</th>\n",
       "      <td>0.211884</td>\n",
       "      <td>0.000000</td>\n",
       "      <td>0.056722</td>\n",
       "      <td>0.012211</td>\n",
       "      <td>0.013498</td>\n",
       "      <td>0.037453</td>\n",
       "      <td>0.052555</td>\n",
       "      <td>0.019061</td>\n",
       "      <td>1.838185</td>\n",
       "      <td>0.208268</td>\n",
       "      <td>...</td>\n",
       "      <td>0.022190</td>\n",
       "      <td>0.000000</td>\n",
       "      <td>0.000000</td>\n",
       "      <td>0.015498</td>\n",
       "      <td>0.067363</td>\n",
       "      <td>0.043064</td>\n",
       "      <td>0.037734</td>\n",
       "      <td>0.000000</td>\n",
       "      <td>0.246104</td>\n",
       "      <td>0.069702</td>\n",
       "    </tr>\n",
       "    <tr>\n",
       "      <th>AHNAK</th>\n",
       "      <td>7.186134</td>\n",
       "      <td>5.957148</td>\n",
       "      <td>5.561650</td>\n",
       "      <td>6.006008</td>\n",
       "      <td>6.885628</td>\n",
       "      <td>6.640573</td>\n",
       "      <td>5.702599</td>\n",
       "      <td>5.349263</td>\n",
       "      <td>6.622119</td>\n",
       "      <td>6.723016</td>\n",
       "      <td>...</td>\n",
       "      <td>4.959840</td>\n",
       "      <td>4.353824</td>\n",
       "      <td>5.183995</td>\n",
       "      <td>6.251443</td>\n",
       "      <td>5.132782</td>\n",
       "      <td>4.996484</td>\n",
       "      <td>6.347690</td>\n",
       "      <td>6.429745</td>\n",
       "      <td>5.392860</td>\n",
       "      <td>6.607653</td>\n",
       "    </tr>\n",
       "    <tr>\n",
       "      <th>ARHGEF5</th>\n",
       "      <td>2.802131</td>\n",
       "      <td>1.682798</td>\n",
       "      <td>1.795684</td>\n",
       "      <td>2.092850</td>\n",
       "      <td>2.050362</td>\n",
       "      <td>2.244248</td>\n",
       "      <td>1.797387</td>\n",
       "      <td>1.986520</td>\n",
       "      <td>2.174151</td>\n",
       "      <td>2.304803</td>\n",
       "      <td>...</td>\n",
       "      <td>1.951998</td>\n",
       "      <td>2.583760</td>\n",
       "      <td>2.461529</td>\n",
       "      <td>2.681044</td>\n",
       "      <td>2.635429</td>\n",
       "      <td>2.322332</td>\n",
       "      <td>1.972068</td>\n",
       "      <td>1.402395</td>\n",
       "      <td>2.479955</td>\n",
       "      <td>1.906236</td>\n",
       "    </tr>\n",
       "  </tbody>\n",
       "</table>\n",
       "<p>5 rows × 1226 columns</p>\n",
       "</div>"
      ],
      "text/plain": [
       "             TCGA-3C-AAAU-01A  TCGA-3C-AALI-01A  TCGA-3C-AALJ-01A  \\\n",
       "gene_symbol                                                         \n",
       "ACAD9                3.443010          3.378234          3.410165   \n",
       "ACTBL2               0.064055          0.014212          0.000000   \n",
       "ACTC1                0.211884          0.000000          0.056722   \n",
       "AHNAK                7.186134          5.957148          5.561650   \n",
       "ARHGEF5              2.802131          1.682798          1.795684   \n",
       "\n",
       "             TCGA-3C-AALK-01A  TCGA-4H-AAAK-01A  TCGA-5L-AAT0-01A  \\\n",
       "gene_symbol                                                         \n",
       "ACAD9                3.517439          3.494249          3.553496   \n",
       "ACTBL2               0.020058          0.054501          0.000000   \n",
       "ACTC1                0.012211          0.013498          0.037453   \n",
       "AHNAK                6.006008          6.885628          6.640573   \n",
       "ARHGEF5              2.092850          2.050362          2.244248   \n",
       "\n",
       "             TCGA-5L-AAT1-01A  TCGA-5T-A9QA-01A  TCGA-A1-A0SB-01A  \\\n",
       "gene_symbol                                                         \n",
       "ACAD9                3.576522          3.621126          3.304146   \n",
       "ACTBL2               0.043204          0.000000          0.289952   \n",
       "ACTC1                0.052555          0.019061          1.838185   \n",
       "AHNAK                5.702599          5.349263          6.622119   \n",
       "ARHGEF5              1.797387          1.986520          2.174151   \n",
       "\n",
       "             TCGA-A1-A0SD-01A  ...  TCGA-UL-AAZ6-01A  TCGA-UU-A93S-01A  \\\n",
       "gene_symbol                    ...                                       \n",
       "ACAD9                3.464956  ...          3.514324          3.744753   \n",
       "ACTBL2               0.026021  ...          0.009060          0.000000   \n",
       "ACTC1                0.208268  ...          0.022190          0.000000   \n",
       "AHNAK                6.723016  ...          4.959840          4.353824   \n",
       "ARHGEF5              2.304803  ...          1.951998          2.583760   \n",
       "\n",
       "             TCGA-V7-A7HQ-01A  TCGA-W8-A86G-01A  TCGA-WT-AB41-01A  \\\n",
       "gene_symbol                                                         \n",
       "ACAD9                3.583952          3.533464          2.657228   \n",
       "ACTBL2               0.000000          0.110096          0.000000   \n",
       "ACTC1                0.000000          0.015498          0.067363   \n",
       "AHNAK                5.183995          6.251443          5.132782   \n",
       "ARHGEF5              2.461529          2.681044          2.635429   \n",
       "\n",
       "             TCGA-WT-AB44-01A  TCGA-XX-A899-01A  TCGA-XX-A89A-01A  \\\n",
       "gene_symbol                                                         \n",
       "ACAD9                3.340163          3.357468          3.501044   \n",
       "ACTBL2               0.000000          1.566328          0.022616   \n",
       "ACTC1                0.043064          0.037734          0.000000   \n",
       "AHNAK                4.996484          6.347690          6.429745   \n",
       "ARHGEF5              2.322332          1.972068          1.402395   \n",
       "\n",
       "             TCGA-Z7-A8R5-01A  TCGA-Z7-A8R6-01A  \n",
       "gene_symbol                                      \n",
       "ACAD9                3.553901          3.733680  \n",
       "ACTBL2               0.085425          0.019346  \n",
       "ACTC1                0.246104          0.069702  \n",
       "AHNAK                5.392860          6.607653  \n",
       "ARHGEF5              2.479955          1.906236  \n",
       "\n",
       "[5 rows x 1226 columns]"
      ]
     },
     "execution_count": 4,
     "metadata": {},
     "output_type": "execute_result"
    }
   ],
   "source": [
    "data_file = project['data_dir'] + project['datasets'][dataset_name]['data']\n",
    "data = pd.read_csv(data_file, sep=';')\n",
    "data.index = data['gene_symbol']\n",
    "if 'id_gene' in data.columns:\n",
    "    data.drop(columns=['id_gene', 'gene_symbol'], inplace=True)\n",
    "data.head()"
   ]
  },
  {
   "cell_type": "markdown",
   "id": "d40d8b5e-f550-4b2e-a4a2-390a8fb59dd4",
   "metadata": {},
   "source": [
    "## Extract the data corresponding to genes and groups"
   ]
  },
  {
   "cell_type": "code",
   "execution_count": 5,
   "id": "d10127f0-bfff-42ba-b6f6-5dec495f1e7f",
   "metadata": {},
   "outputs": [
    {
     "name": "stdout",
     "output_type": "stream",
     "text": [
      "TCGA-BRCA NT 113\n",
      "TCGA-BRCA Luminal-A 547\n",
      "TCGA-BRCA Luminal-B 202\n",
      "TCGA-BRCA HER2-enriched 82\n",
      "TCGA-BRCA Basal-like 193\n"
     ]
    }
   ],
   "source": [
    "boxplot_data = []\n",
    "anova_data = pd.DataFrame()\n",
    "for group_name in group_names:\n",
    "    group_samples = project['datasets'][dataset_name]['groups'][group_name]\n",
    "    print(dataset_name, group_name, len(group_samples))\n",
    "    boxplot_data.append(data.loc[gene_name, group_samples])\n",
    "    for group_sample in group_samples: \n",
    "        anova_data.loc[group_sample, gene_name] = data.loc[gene_name, group_sample]\n",
    "    anova_data.loc[group_samples, 'group_name'] = group_name        "
   ]
  },
  {
   "cell_type": "code",
   "execution_count": 6,
   "id": "24666f19-0e71-4bae-933a-75867e9c6295",
   "metadata": {},
   "outputs": [
    {
     "data": {
      "text/html": [
       "<div>\n",
       "<style scoped>\n",
       "    .dataframe tbody tr th:only-of-type {\n",
       "        vertical-align: middle;\n",
       "    }\n",
       "\n",
       "    .dataframe tbody tr th {\n",
       "        vertical-align: top;\n",
       "    }\n",
       "\n",
       "    .dataframe thead th {\n",
       "        text-align: right;\n",
       "    }\n",
       "</style>\n",
       "<table border=\"1\" class=\"dataframe\">\n",
       "  <thead>\n",
       "    <tr style=\"text-align: right;\">\n",
       "      <th></th>\n",
       "      <th>SMYD2</th>\n",
       "      <th>group_name</th>\n",
       "    </tr>\n",
       "  </thead>\n",
       "  <tbody>\n",
       "    <tr>\n",
       "      <th>TCGA-A7-A0CE-11A</th>\n",
       "      <td>3.239413</td>\n",
       "      <td>NT</td>\n",
       "    </tr>\n",
       "    <tr>\n",
       "      <th>TCGA-A7-A0CH-11A</th>\n",
       "      <td>3.269527</td>\n",
       "      <td>NT</td>\n",
       "    </tr>\n",
       "    <tr>\n",
       "      <th>TCGA-A7-A0D9-11A</th>\n",
       "      <td>2.917451</td>\n",
       "      <td>NT</td>\n",
       "    </tr>\n",
       "    <tr>\n",
       "      <th>TCGA-A7-A0DB-11A</th>\n",
       "      <td>2.805499</td>\n",
       "      <td>NT</td>\n",
       "    </tr>\n",
       "    <tr>\n",
       "      <th>TCGA-A7-A0DC-11A</th>\n",
       "      <td>3.069238</td>\n",
       "      <td>NT</td>\n",
       "    </tr>\n",
       "  </tbody>\n",
       "</table>\n",
       "</div>"
      ],
      "text/plain": [
       "                     SMYD2 group_name\n",
       "TCGA-A7-A0CE-11A  3.239413         NT\n",
       "TCGA-A7-A0CH-11A  3.269527         NT\n",
       "TCGA-A7-A0D9-11A  2.917451         NT\n",
       "TCGA-A7-A0DB-11A  2.805499         NT\n",
       "TCGA-A7-A0DC-11A  3.069238         NT"
      ]
     },
     "execution_count": 6,
     "metadata": {},
     "output_type": "execute_result"
    }
   ],
   "source": [
    "anova_data.head()"
   ]
  },
  {
   "cell_type": "markdown",
   "id": "711b3921-8457-4a83-a89a-7236d168867b",
   "metadata": {},
   "source": [
    "## Perform ANOVA"
   ]
  },
  {
   "cell_type": "markdown",
   "id": "c0361817-d5ab-435e-9d2f-2ca573178f56",
   "metadata": {},
   "source": [
    "Options:\n",
    "* dv: name of the column containing the dependant variables\n",
    "* between: name of the column containing the between-group factor\n",
    "* data: name of the pandas dataframe"
   ]
  },
  {
   "cell_type": "code",
   "execution_count": 7,
   "id": "bca2ddf0-6141-4285-af18-49b3b3d6bc27",
   "metadata": {},
   "outputs": [
    {
     "name": "stdout",
     "output_type": "stream",
     "text": [
      "\n",
      "=============\n",
      "ANOVA SUMMARY\n",
      "=============\n",
      "\n",
      "Source           SS    DF      MS        F    p-unc      np2\n",
      "----------  -------  ----  ------  -------  -------  -------\n",
      "group_name   83.942     4  20.986   59.407    0.000    0.173\n",
      "Within      399.881  1132   0.353  nan      nan      nan\n",
      "\n"
     ]
    }
   ],
   "source": [
    "aov = pg.anova(data=anova_data, dv=gene_name, between='group_name', detailed=True)\n",
    "pg.print_table(aov)"
   ]
  },
  {
   "cell_type": "markdown",
   "id": "c7d0b657-20a8-41f6-a265-7bd9b3f8e779",
   "metadata": {},
   "source": [
    "ANOVA summary:\n",
    "* 'Source': Factor names\n",
    "* 'SS': Sums of squares\n",
    "* 'DF': Degrees of freedom\n",
    "* 'MS': Mean squares\n",
    "* 'F': F-values\n",
    "* 'p-unc': uncorrected p-values\n",
    "* 'np2': Partial eta-square effect sizes"
   ]
  },
  {
   "cell_type": "code",
   "execution_count": 8,
   "id": "2620ac4c-e843-43a3-b226-938e9f5a59a0",
   "metadata": {},
   "outputs": [
    {
     "name": "stdout",
     "output_type": "stream",
     "text": [
      "p-value = 1.4e-45\n"
     ]
    }
   ],
   "source": [
    "anova_pvalue = np.nan\n",
    "if 'p-unc' in aov.columns:\n",
    "    anova_pvalue = aov.loc[0, 'p-unc']\n",
    "print('p-value = {:.1e}'.format(anova_pvalue))"
   ]
  },
  {
   "cell_type": "markdown",
   "id": "f49bb8b0-f1b8-43d3-ba5a-9bed71f6ca43",
   "metadata": {},
   "source": [
    "## Generate a boxplot "
   ]
  },
  {
   "cell_type": "code",
   "execution_count": 9,
   "id": "5939a908-e067-44c6-aa13-84023a84d042",
   "metadata": {},
   "outputs": [],
   "source": [
    "boxplot_options = {\n",
    "    'flierprops': dict(marker='o', markersize=4, markeredgewidth=0.3, markeredgecolor='black'), \n",
    "    'medianprops': dict(linestyle='-', linewidth=0.75, color='black'), \n",
    "    'meanprops': dict(linestyle='-', linewidth=1.5, color='black'), \n",
    "    'meanline': True, \n",
    "    'showmeans': True,\n",
    "    'boxprops': dict(linestyle='-', linewidth=0.75, color='black'), \n",
    "    'capprops': dict(color='black', linewidth=0.75), \n",
    "    'whiskerprops': dict(linestyle='--', linewidth=0.75, color='black') ,\n",
    "    'patch_artist': True,\n",
    "    'widths': 0.5\n",
    "}\n",
    "\n",
    "font = {'fontname':'Arial', 'stretch' : 'condensed', 'fontsize': 16}"
   ]
  },
  {
   "cell_type": "code",
   "execution_count": 10,
   "id": "00921138-a24d-4fc7-9f4a-40f560ee5cc2",
   "metadata": {},
   "outputs": [],
   "source": [
    "def get_significance_symbol(pvalue, oneStar=0.05, twoStars=0.01, threeStars=0.001):\n",
    "    symbol = ''\n",
    "    if (pvalue<=oneStar):\n",
    "        symbol = '*'\n",
    "    if (pvalue<=twoStars):\n",
    "        symbol = '**'\n",
    "    if (pvalue<=threeStars):\n",
    "        symbol = '***'\n",
    "    return symbol"
   ]
  },
  {
   "cell_type": "code",
   "execution_count": 11,
   "id": "a3d487ee-f151-499c-954e-5392f37358f1",
   "metadata": {},
   "outputs": [
    {
     "data": {
      "image/png": "[encoded data removed]",
      "text/plain": [
       "<Figure size 720x288 with 1 Axes>"
      ]
     },
     "metadata": {
      "needs_background": "light"
     },
     "output_type": "display_data"
    }
   ],
   "source": [
    "fig = plt.figure(figsize=(2*len(group_names), 4))\n",
    "ax = fig.add_subplot(111)\n",
    "bplot = ax.boxplot(boxplot_data, **boxplot_options)\n",
    "for patch, group_name in zip(bplot['boxes'], group_names):\n",
    "    patch.set_facecolor('palegreen' if group_name=='NT' else 'silver')\n",
    "    patch.set_alpha(0.5)\n",
    "title = gene_name + '  ' + dataset_name + '\\nANOVA p-value = {:.1e}'.format(anova_pvalue) + get_significance_symbol(anova_pvalue)\n",
    "ax.set_title(title, **font)\n",
    "ax.set_ylabel('Expression', **font)\n",
    "xticks = [i+1 for i in range(len(group_names))]\n",
    "ax.set_xticks(xticks)\n",
    "xticklabels = []\n",
    "for group_name in group_names:\n",
    "        group_samples = project['datasets'][dataset_name]['groups'][group_name]\n",
    "        xticklabels.append(f\"{group_name}\\n(n={len(group_samples)})\")\n",
    "t = ax.set_xticklabels(xticklabels, **font)"
   ]
  },
  {
   "cell_type": "code",
   "execution_count": 12,
   "id": "853e3b42-9b70-485b-8876-c7b5a36208be",
   "metadata": {},
   "outputs": [],
   "source": [
    "# fig.savefig(f\"figs/anova_{gene_name}_{dataset_name}.pdf\", dpi=300, format='pdf', bbox_inches='tight', orientation='portrait')"
   ]
  },
  {
   "cell_type": "code",
   "execution_count": null,
   "id": "559dc4a4-76d6-41bd-ada5-3a14163933d3",
   "metadata": {},
   "outputs": [],
   "source": []
  }
 ],
 "metadata": {
  "kernelspec": {
   "display_name": "Python 3 (ipykernel)",
   "language": "python",
   "name": "python3"
  },
  "language_info": {
   "codemirror_mode": {
    "name": "ipython",
    "version": 3
   },
   "file_extension": ".py",
   "mimetype": "text/x-python",
   "name": "python",
   "nbconvert_exporter": "python",
   "pygments_lexer": "ipython3",
   "version": "3.9.7"
  }
 },
 "nbformat": 4,
 "nbformat_minor": 5
}
