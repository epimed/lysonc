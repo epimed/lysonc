{
 "cells": [
  {
   "cell_type": "markdown",
   "id": "af91bd8d-1f7d-4f83-9144-dde0adbd9f66",
   "metadata": {},
   "source": [
    "# Create a project"
   ]
  },
  {
   "cell_type": "code",
   "execution_count": 1,
   "id": "ecd4c6c2-49ef-4d4c-b97b-ec44ce446775",
   "metadata": {},
   "outputs": [],
   "source": [
    "import pandas as pd\n",
    "import pickle\n",
    "import json"
   ]
  },
  {
   "cell_type": "markdown",
   "id": "f548e176-e31a-40ed-8c67-236209d6ccb3",
   "metadata": {},
   "source": [
    "## Define the parameters of your project"
   ]
  },
  {
   "cell_type": "code",
   "execution_count": 2,
   "id": "58762c3c-913d-4c5d-8a26-0029f7ec6248",
   "metadata": {},
   "outputs": [],
   "source": [
    "project = {\n",
    "    'name': 'LysOnc',\n",
    "    'data_dir': 'data/', \n",
    "    'datasets': {\n",
    "        'TCGA-BRCA': {\n",
    "            'data': 'expression_data_tcga_brca_TCGA-BRCA_log_fpkm_1226_samples_55_genes.csv',\n",
    "            'clinical': 'clinical_TCGA-BRCA.csv'\n",
    "        }  \n",
    "    }\n",
    "}"
   ]
  },
  {
   "cell_type": "markdown",
   "id": "2e774571-4359-4167-abb8-ef8ee4d65758",
   "metadata": {},
   "source": [
    "## Define clinical groups"
   ]
  },
  {
   "cell_type": "code",
   "execution_count": 3,
   "id": "268ab65f-16c4-4ca1-925f-78b88ee111b7",
   "metadata": {},
   "outputs": [],
   "source": [
    "groups = {\n",
    "    # --------------\n",
    "    'TCGA-BRCA': {\n",
    "        'NT': [{'tissue_status': ['normal']}], # Non tumour (NT) breast\n",
    "        'All-tumours': [{'tissue_status': ['tumoral']}],\n",
    "        'Luminal-A': [{'tissue_status': ['tumoral']}, {'pam50': ['luminal-A']}],\n",
    "        'Luminal-B': [{'tissue_status': ['tumoral']}, {'pam50': ['luminal-B']}],\n",
    "        'HER2-enriched': [{'tissue_status': ['tumoral']}, {'pam50': ['HER2-enriched']}],\n",
    "        'Basal-like': [{'tissue_status': ['tumoral']}, {'pam50': ['basal-like']}],\n",
    "        'T1N0': [{'ajcc_tumor_pathologic_pt_shared_stage_pathologic_categories': ['T1', 'T1a', 'T1b', 'T1c']}, {'ajcc_nodes_pathologic_pn_shared_stage_pathologic_m': ['N0', 'N0 (i-)', 'N0 (i+)']}],\n",
    "        'N0': [{'ajcc_nodes_pathologic_pn_shared_stage_pathologic_m': ['N0', 'N0 (i-)', 'N0 (i+)']}],\n",
    "        'M1': [{'diagnoses_1_ajcc_pathologic_m': ['M1']}],\n",
    "        'Claudin-low': [{'tissue_status': ['tumoral']}, {'claudin_low': [1]}],\n",
    "        },\n",
    "}"
   ]
  },
  {
   "cell_type": "markdown",
   "id": "42da3d12-cc25-4e3d-ae43-d66564000529",
   "metadata": {},
   "source": [
    "## Define a function to execute queries on clinical data"
   ]
  },
  {
   "cell_type": "code",
   "execution_count": 4,
   "id": "cf61848e-cce2-45ed-9158-d03960aa8a89",
   "metadata": {},
   "outputs": [],
   "source": [
    "def get_query(clinical, list_filters):\n",
    "    query_and = True\n",
    "    for filter_element in list_filters:\n",
    "        for colname, colvalues in filter_element.items():\n",
    "            query_and = query_and & (clinical[colname].isin(colvalues))\n",
    "    return query_and"
   ]
  },
  {
   "cell_type": "markdown",
   "id": "76c30b73-c9be-45dc-a0da-b9bea520617e",
   "metadata": {},
   "source": [
    "## Identify the samples belonging to each group and store them inside the project variable "
   ]
  },
  {
   "cell_type": "code",
   "execution_count": 5,
   "id": "bdd52492-aeb5-4dba-940f-689289a155a9",
   "metadata": {},
   "outputs": [
    {
     "name": "stdout",
     "output_type": "stream",
     "text": [
      "TCGA-BRCA NT 113\n",
      "TCGA-BRCA All-tumours 1113\n",
      "TCGA-BRCA Luminal-A 547\n",
      "TCGA-BRCA Luminal-B 202\n",
      "TCGA-BRCA HER2-enriched 82\n",
      "TCGA-BRCA Basal-like 193\n",
      "TCGA-BRCA T1N0 170\n",
      "TCGA-BRCA N0 509\n",
      "TCGA-BRCA M1 22\n",
      "TCGA-BRCA Claudin-low 33\n"
     ]
    }
   ],
   "source": [
    "dataset_name = 'TCGA-BRCA'\n",
    "project['datasets'][dataset_name]['groups'] = dict()\n",
    "clinical = pd.read_csv(project['data_dir'] + project['datasets'][dataset_name]['clinical'], sep=';', index_col=0)\n",
    "for group_name, list_filters in groups[dataset_name].items():\n",
    "    query = get_query(clinical, list_filters)\n",
    "    group_samples = list(clinical.loc[query].index)    \n",
    "    project['datasets'][dataset_name]['groups'][group_name] = group_samples\n",
    "    print(dataset_name, group_name, len(group_samples))"
   ]
  },
  {
   "cell_type": "markdown",
   "id": "430faebe-f9e8-4424-853a-540c685585ad",
   "metadata": {},
   "source": [
    "## Save the project"
   ]
  },
  {
   "cell_type": "code",
   "execution_count": 6,
   "id": "caba976d-4289-4ec7-a5e9-f48dd0e1fb6d",
   "metadata": {},
   "outputs": [
    {
     "name": "stdout",
     "output_type": "stream",
     "text": [
      "data/LysOnc.pickle\n"
     ]
    }
   ],
   "source": [
    "pickle_file = f\"{project['data_dir']}{project['name']}.pickle\"\n",
    "with open(pickle_file, 'bw') as f:\n",
    "    pickle.dump(project, f)\n",
    "print(pickle_file)"
   ]
  },
  {
   "cell_type": "code",
   "execution_count": 7,
   "id": "6f69c862-2c19-4bc6-b6e5-ace015310fce",
   "metadata": {},
   "outputs": [
    {
     "name": "stdout",
     "output_type": "stream",
     "text": [
      "data/LysOnc.json\n"
     ]
    }
   ],
   "source": [
    "json_file = pickle_file = f\"{project['data_dir']}{project['name']}.json\"\n",
    "with open(json_file, 'w', encoding='utf-8') as f:\n",
    "    json.dump(project, f, ensure_ascii=True, indent=4)\n",
    "print(json_file)"
   ]
  },
  {
   "cell_type": "code",
   "execution_count": null,
   "id": "98e187d8-7fdb-4b3a-832c-31795cc8161f",
   "metadata": {},
   "outputs": [],
   "source": []
  }
 ],
 "metadata": {
  "kernelspec": {
   "display_name": "Python 3 (ipykernel)",
   "language": "python",
   "name": "python3"
  },
  "language_info": {
   "codemirror_mode": {
    "name": "ipython",
    "version": 3
   },
   "file_extension": ".py",
   "mimetype": "text/x-python",
   "name": "python",
   "nbconvert_exporter": "python",
   "pygments_lexer": "ipython3",
   "version": "3.9.7"
  }
 },
 "nbformat": 4,
 "nbformat_minor": 5
}
